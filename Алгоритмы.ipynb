{
  "nbformat": 4,
  "nbformat_minor": 0,
  "metadata": {
    "colab": {
      "provenance": [],
      "authorship_tag": "ABX9TyOjS/ciHQmIHvubbdL/eeYc",
      "include_colab_link": true
    },
    "kernelspec": {
      "name": "python3",
      "display_name": "Python 3"
    },
    "language_info": {
      "name": "python"
    }
  },
  "cells": [
    {
      "cell_type": "markdown",
      "metadata": {
        "id": "view-in-github",
        "colab_type": "text"
      },
      "source": [
        "<a href=\"https://colab.research.google.com/github/nadyaloseva/Algorithms/blob/main/%D0%90%D0%BB%D0%B3%D0%BE%D1%80%D0%B8%D1%82%D0%BC%D1%8B.ipynb\" target=\"_parent\"><img src=\"https://colab.research.google.com/assets/colab-badge.svg\" alt=\"Open In Colab\"/></a>"
      ]
    },
    {
      "cell_type": "code",
      "execution_count": 1,
      "metadata": {
        "id": "ke3jsI2rn0no"
      },
      "outputs": [],
      "source": [
        "import numpy as np"
      ]
    },
    {
      "cell_type": "code",
      "source": [
        "a = [1,2,3,4,5,6,7,8,9,10,11,12,13,14,15,16]"
      ],
      "metadata": {
        "id": "RrJ4QQuOn41c"
      },
      "execution_count": 2,
      "outputs": []
    },
    {
      "cell_type": "markdown",
      "source": [
        "Бинарная сортировка - это алгоритм, в котом массив сортируется, потом идет сравнение медианного значением с числом, которое нам требуется найти:\n",
        " - если оно больше медианы, то левая граница нашего массива получает значение медианного значения + 1 ( медиана точно не равна значению, потому что мы это уже проверяли)\n",
        " - если оно меньше медианы, то правая граница нашего массива получается значение медианного значения + 1\n",
        " - если медианное значение равно искомому, то на повезло и мы нашли то, что нужно"
      ],
      "metadata": {
        "id": "lDKwrtABrDa-"
      }
    },
    {
      "cell_type": "code",
      "source": [
        "def binary_search(a, b):\n",
        "  a = sorted(a) # сортируем массив\n",
        "  left = 0 # определяем границы\n",
        "  right = len(a) - 1 # определяем границы\n",
        "  while left <= right: # создаем цикл, пока наши границы не будут равны\n",
        "    half = (left+right)//2 # вычисляем медианное значение\n",
        "    if b > a[half]: # искомое значение больше медианного\n",
        "      left = half + 1\n",
        "      print(left, right)\n",
        "    elif b < a[half]: # искомое значение меньше медианного\n",
        "      right = half - 1\n",
        "      print(left, right)\n",
        "    else:\n",
        "      return print(\"Зачение b: \",half) # искомое значение равно медианному\n",
        "  return -1"
      ],
      "metadata": {
        "id": "cuCer7nmoIfr"
      },
      "execution_count": 14,
      "outputs": []
    },
    {
      "cell_type": "code",
      "source": [
        "binary_search(a, 4)"
      ],
      "metadata": {
        "colab": {
          "base_uri": "https://localhost:8080/"
        },
        "id": "_Efl_rnprfx2",
        "outputId": "9aff25e1-102f-4840-8b4a-6d555cb9828a"
      },
      "execution_count": 15,
      "outputs": [
        {
          "output_type": "stream",
          "name": "stdout",
          "text": [
            "0 6\n",
            "Зачение b:  3\n"
          ]
        }
      ]
    },
    {
      "cell_type": "markdown",
      "source": [
        "Сортировка с выбором - создается массив из двух частей: пустая и заполненая. Из заполненного значения по очередии достается минимальное значение и кладется в пустой массив в нужном порядке"
      ],
      "metadata": {
        "id": "dOh4A0yOsdqk"
      }
    },
    {
      "cell_type": "code",
      "source": [
        "a = [16,15,13,12,10,11,9,7,8,5,6,4,2,3,1]"
      ],
      "metadata": {
        "id": "fizF932Ixtgg"
      },
      "execution_count": 54,
      "outputs": []
    },
    {
      "cell_type": "code",
      "source": [
        "def sorting_select(a):\n",
        "\n",
        "  for i in range(len(a)):\n",
        "    min_index = i\n",
        "    for j in range(i+1, len(a)):\n",
        "      if a[j] < a[min_index]:\n",
        "        min_index = j\n",
        "        print(a[min_index],a[j])\n",
        "    a[i], a[min_index] = a[min_index], a[i]\n",
        "  return a\n",
        "\n",
        "sorting_select(a)"
      ],
      "metadata": {
        "colab": {
          "base_uri": "https://localhost:8080/"
        },
        "id": "yA_rXE6Dsc5o",
        "outputId": "1727fede-33cd-4d3d-d85d-352fb99a8079"
      },
      "execution_count": 61,
      "outputs": [
        {
          "output_type": "execute_result",
          "data": {
            "text/plain": [
              "[1, 2, 3, 4, 5, 6, 7, 8, 9, 10, 11, 12, 13, 15, 16]"
            ]
          },
          "metadata": {},
          "execution_count": 61
        }
      ]
    }
  ]
}